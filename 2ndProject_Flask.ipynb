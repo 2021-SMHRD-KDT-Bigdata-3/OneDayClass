{
 "cells": [
  {
   "cell_type": "code",
   "execution_count": 1,
   "metadata": {},
   "outputs": [],
   "source": [
    "from flask import Flask\n",
    "from flask import request, redirect\n",
    "from flask_cors import CORS\n",
    "import pandas as pd\n",
    "import numpy as np\n",
    "import pickle\n",
    "import pandas as pd\n",
    "import numpy as np"
   ]
  },
  {
   "cell_type": "code",
   "execution_count": 2,
   "metadata": {},
   "outputs": [],
   "source": [
    "file = open('성길_데이터분석/model.pkl', 'rb')\n",
    "model = pickle.load(file)"
   ]
  },
  {
   "cell_type": "code",
   "execution_count": 3,
   "metadata": {},
   "outputs": [],
   "source": [
    "def predict(request):\n",
    "    dic = dict(request)\n",
    "    data = pd.DataFrame(dic, index = ['people'])\n",
    "    data = data.drop(columns='Participants', axis=1) # 선호 인원수\n",
    "    data = data.drop(columns='job', axis=1) # 직업\n",
    "    data = data.drop(columns='experience', axis=1) # 경험\n",
    "    data = data.drop(columns='age', axis=1) # 나이\n",
    "    data = data.drop(columns='non_give_up', axis=1)\n",
    "    data = data.drop(columns='obstacle', axis=1)\n",
    "\n",
    "    X=data.copy()\n",
    "    print(X)\n",
    "    mapdic = { 'man' : 1, 'woman' : 0}\n",
    "    X['gender'] = X['gender'].map(mapdic)\n",
    "    print(X)\n",
    "    for i in list(X.columns):\n",
    "        X[i] = int(X[i])\n",
    "#     columns = ['gender',\n",
    "#      'hobby_time',\n",
    "#      'hobby_money',\n",
    "#      'mbtiE/I_1',\n",
    "#      'mbtiE/I_2',\n",
    "#      'mbtiE/I_3',\n",
    "#      'mbtiS/N_1',\n",
    "#      'mbtiS/N_2',\n",
    "#      'mbtiS/N_3',\n",
    "#      'mbtiT/F_1',\n",
    "#      'mbtiT/F_2',\n",
    "#      'mbtiT/F_3',\n",
    "#      'mbtiJ/P_1',\n",
    "#      'mbtiJ/P_2',\n",
    "#      'mbtiJ/P_3']\n",
    "#     X = X[columns]        \n",
    "\n",
    "    print(X)\n",
    "    print(X.shape)\n",
    "    result = model.predict(X)[0]\n",
    "    return result"
   ]
  },
  {
   "cell_type": "code",
   "execution_count": null,
   "metadata": {
    "scrolled": true
   },
   "outputs": [
    {
     "name": "stdout",
     "output_type": "stream",
     "text": [
      " * Serving Flask app \"__main__\" (lazy loading)\n",
      " * Environment: production\n",
      "   WARNING: This is a development server. Do not use it in a production deployment.\n",
      "   Use a production WSGI server instead.\n",
      " * Debug mode: off\n"
     ]
    },
    {
     "name": "stderr",
     "output_type": "stream",
     "text": [
      " * Running on http://211.105.165.117:9000/ (Press CTRL+C to quit)\n",
      "211.105.165.117 - - [25/Jun/2021 14:38:32] \"\u001b[32mPOST /survey HTTP/1.1\u001b[0m\" 302 -\n"
     ]
    },
    {
     "name": "stdout",
     "output_type": "stream",
     "text": [
      "       gender hobby_time hobby_money mbti1 mbti2 mbti3 mbti4 mbti5 mbti6  \\\n",
      "people    man          3          20     3     4     2     4     4     5   \n",
      "\n",
      "       mbti7 mbti8 mbti9 mbti10 mbti11 mbti12  \n",
      "people     5     4     4      3      4      4  \n",
      "        gender hobby_time hobby_money mbti1 mbti2 mbti3 mbti4 mbti5 mbti6  \\\n",
      "people       1          3          20     3     4     2     4     4     5   \n",
      "\n",
      "       mbti7 mbti8 mbti9 mbti10 mbti11 mbti12  \n",
      "people     5     4     4      3      4      4  \n",
      "        gender  hobby_time  hobby_money  mbti1  mbti2  mbti3  mbti4  mbti5  \\\n",
      "people       1           3           20      3      4      2      4      4   \n",
      "\n",
      "        mbti6  mbti7  mbti8  mbti9  mbti10  mbti11  mbti12  \n",
      "people      5      5      4      4       3       4       4  \n",
      "(1, 15)\n"
     ]
    },
    {
     "name": "stderr",
     "output_type": "stream",
     "text": [
      "211.105.165.117 - - [25/Jun/2021 14:42:38] \"\u001b[32mPOST /survey HTTP/1.1\u001b[0m\" 302 -\n"
     ]
    },
    {
     "name": "stdout",
     "output_type": "stream",
     "text": [
      "       gender hobby_time hobby_money mbti1 mbti2 mbti3 mbti4 mbti5 mbti6  \\\n",
      "people    man          2          20     3     5     4     4     5     5   \n",
      "\n",
      "       mbti7 mbti8 mbti9 mbti10 mbti11 mbti12  \n",
      "people     5     4     3      4      4      2  \n",
      "        gender hobby_time hobby_money mbti1 mbti2 mbti3 mbti4 mbti5 mbti6  \\\n",
      "people       1          2          20     3     5     4     4     5     5   \n",
      "\n",
      "       mbti7 mbti8 mbti9 mbti10 mbti11 mbti12  \n",
      "people     5     4     3      4      4      2  \n",
      "        gender  hobby_time  hobby_money  mbti1  mbti2  mbti3  mbti4  mbti5  \\\n",
      "people       1           2           20      3      5      4      4      5   \n",
      "\n",
      "        mbti6  mbti7  mbti8  mbti9  mbti10  mbti11  mbti12  \n",
      "people      5      5      4      3       4       4       2  \n",
      "(1, 15)\n"
     ]
    },
    {
     "name": "stderr",
     "output_type": "stream",
     "text": [
      "211.105.165.117 - - [25/Jun/2021 14:53:27] \"\u001b[32mPOST /survey HTTP/1.1\u001b[0m\" 302 -\n"
     ]
    },
    {
     "name": "stdout",
     "output_type": "stream",
     "text": [
      "       gender hobby_time hobby_money mbti1 mbti2 mbti3 mbti4 mbti5 mbti6  \\\n",
      "people    man          2          20     4     4     5     4     5     5   \n",
      "\n",
      "       mbti7 mbti8 mbti9 mbti10 mbti11 mbti12  \n",
      "people     4     5     3      3      4      2  \n",
      "        gender hobby_time hobby_money mbti1 mbti2 mbti3 mbti4 mbti5 mbti6  \\\n",
      "people       1          2          20     4     4     5     4     5     5   \n",
      "\n",
      "       mbti7 mbti8 mbti9 mbti10 mbti11 mbti12  \n",
      "people     4     5     3      3      4      2  \n",
      "        gender  hobby_time  hobby_money  mbti1  mbti2  mbti3  mbti4  mbti5  \\\n",
      "people       1           2           20      4      4      5      4      5   \n",
      "\n",
      "        mbti6  mbti7  mbti8  mbti9  mbti10  mbti11  mbti12  \n",
      "people      5      4      5      3       3       4       2  \n",
      "(1, 15)\n"
     ]
    },
    {
     "name": "stderr",
     "output_type": "stream",
     "text": [
      "211.105.165.117 - - [25/Jun/2021 15:11:45] \"\u001b[32mPOST /survey HTTP/1.1\u001b[0m\" 302 -\n"
     ]
    },
    {
     "name": "stdout",
     "output_type": "stream",
     "text": [
      "       gender hobby_time hobby_money mbti1 mbti2 mbti3 mbti4 mbti5 mbti6  \\\n",
      "people    man          3          20     3     4     4     5     5     3   \n",
      "\n",
      "       mbti7 mbti8 mbti9 mbti10 mbti11 mbti12  \n",
      "people     4     4     3      4      5      3  \n",
      "        gender hobby_time hobby_money mbti1 mbti2 mbti3 mbti4 mbti5 mbti6  \\\n",
      "people       1          3          20     3     4     4     5     5     3   \n",
      "\n",
      "       mbti7 mbti8 mbti9 mbti10 mbti11 mbti12  \n",
      "people     4     4     3      4      5      3  \n",
      "        gender  hobby_time  hobby_money  mbti1  mbti2  mbti3  mbti4  mbti5  \\\n",
      "people       1           3           20      3      4      4      5      5   \n",
      "\n",
      "        mbti6  mbti7  mbti8  mbti9  mbti10  mbti11  mbti12  \n",
      "people      3      4      4      3       4       5       3  \n",
      "(1, 15)\n"
     ]
    }
   ],
   "source": [
    "app = Flask(__name__) # 내장변수 name을 이용해 서버를 구동시키는 객체를 생성\n",
    "CORS(app)\n",
    "\n",
    "@app.route(\"/survey\", methods=[\"GET\", \"POST\"])\n",
    "def flasktest():\n",
    "    if request.method == 'POST':\n",
    "        result = predict(request.form)\n",
    "        \n",
    "        return redirect('http://localhost:8081/OneDayClass/USERS_survey?result=' + result)\n",
    "    else:\n",
    "        return '성공'\n",
    "\n",
    "if __name__ == \"__main__\" :\n",
    "    app.run(host=\"211.105.165.117\", port=\"9000\")"
   ]
  },
  {
   "cell_type": "code",
   "execution_count": null,
   "metadata": {},
   "outputs": [],
   "source": []
  },
  {
   "cell_type": "code",
   "execution_count": null,
   "metadata": {},
   "outputs": [],
   "source": []
  }
 ],
 "metadata": {
  "kernelspec": {
   "display_name": "Python 3",
   "language": "python",
   "name": "python3"
  },
  "language_info": {
   "codemirror_mode": {
    "name": "ipython",
    "version": 3
   },
   "file_extension": ".py",
   "mimetype": "text/x-python",
   "name": "python",
   "nbconvert_exporter": "python",
   "pygments_lexer": "ipython3",
   "version": "3.8.5"
  }
 },
 "nbformat": 4,
 "nbformat_minor": 4
}
